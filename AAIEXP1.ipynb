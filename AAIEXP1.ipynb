{
  "nbformat": 4,
  "nbformat_minor": 0,
  "metadata": {
    "colab": {
      "provenance": []
    },
    "kernelspec": {
      "name": "python3",
      "display_name": "Python 3"
    },
    "language_info": {
      "name": "python"
    }
  },
  "cells": [
    {
      "cell_type": "code",
      "source": [
        "pip install pybbn"
      ],
      "metadata": {
        "colab": {
          "base_uri": "https://localhost:8080/"
        },
        "id": "-6EjmQdOqgcH",
        "outputId": "c8783889-9abe-4ac8-cbb3-fde26b38f893"
      },
      "execution_count": 3,
      "outputs": [
        {
          "output_type": "stream",
          "name": "stdout",
          "text": [
            "Collecting pybbn\n",
            "  Downloading pybbn-3.2.3.tar.gz (36 kB)\n",
            "  Preparing metadata (setup.py) ... \u001b[?25l\u001b[?25hdone\n",
            "Requirement already satisfied: numpy in /usr/local/lib/python3.12/dist-packages (from pybbn) (2.0.2)\n",
            "Requirement already satisfied: scipy in /usr/local/lib/python3.12/dist-packages (from pybbn) (1.16.2)\n",
            "Requirement already satisfied: networkx in /usr/local/lib/python3.12/dist-packages (from pybbn) (3.5)\n",
            "Requirement already satisfied: pandas in /usr/local/lib/python3.12/dist-packages (from pybbn) (2.2.2)\n",
            "Requirement already satisfied: python-dateutil>=2.8.2 in /usr/local/lib/python3.12/dist-packages (from pandas->pybbn) (2.9.0.post0)\n",
            "Requirement already satisfied: pytz>=2020.1 in /usr/local/lib/python3.12/dist-packages (from pandas->pybbn) (2025.2)\n",
            "Requirement already satisfied: tzdata>=2022.7 in /usr/local/lib/python3.12/dist-packages (from pandas->pybbn) (2025.2)\n",
            "Requirement already satisfied: six>=1.5 in /usr/local/lib/python3.12/dist-packages (from python-dateutil>=2.8.2->pandas->pybbn) (1.17.0)\n",
            "Building wheels for collected packages: pybbn\n",
            "  Building wheel for pybbn (setup.py) ... \u001b[?25l\u001b[?25hdone\n",
            "  Created wheel for pybbn: filename=pybbn-3.2.3-py3-none-any.whl size=40372 sha256=a1f2a43ab0bf7a7cd43963125cb52adae32f07e5bee0ed0cbdf2959fd64c940a\n",
            "  Stored in directory: /root/.cache/pip/wheels/97/20/85/52b65994184561eecc73318b47effb93e250a3dc3264db32c9\n",
            "Successfully built pybbn\n",
            "Installing collected packages: pybbn\n",
            "Successfully installed pybbn-3.2.3\n"
          ]
        }
      ]
    },
    {
      "cell_type": "code",
      "execution_count": 4,
      "metadata": {
        "id": "d4_Zh10VygDw"
      },
      "outputs": [],
      "source": [
        "import pandas as pd # for data manipulation\n",
        "import networkx as nx # for drawing graphs\n",
        "import matplotlib.pyplot as plt # for drawing graphs\n",
        "# for creating Bayesian Belief Networks (BBN)\n",
        "from pybbn.graph.dag import Bbn\n",
        "from pybbn.graph.edge import Edge, EdgeType\n",
        "from pybbn.graph.jointree import EvidenceBuilder\n",
        "from pybbn.graph.node import BbnNode\n",
        "from pybbn.graph.variable import Variable\n",
        "from pybbn.pptc.inferencecontroller import InferenceController\n",
        "#Set Pandas options to display more columns\n",
        "pd.options.display.max_columns=50\n",
        "\n"
      ]
    },
    {
      "cell_type": "code",
      "source": [
        "df=pd.read_csv(\"/content/weatherAUS.csv\")\n",
        "df\n",
        "\n",
        "df=df[pd.isnull(df['RainTomorrow'])==False]\n",
        "\n",
        "df = df.drop(columns='Date')\n",
        "\n",
        "\n",
        "numeric_columns = df.select_dtypes(include=['number']).columns\n",
        "\n",
        "df.loc[:, numeric_columns] = df[numeric_columns].fillna(df[numeric_columns].mean())\n",
        "\n",
        "\n",
        "df['WindGustSpeedCat']=df['WindGustSpeed'].apply(lambda x: '0.<=40'   if x<=40 else\n",
        "                                                            '1.40-50' if 40<x<=50 else '2.>50')\n",
        "df['Humidity9amCat']=df['Humidity9am'].apply(lambda x: '1.>60' if x>60 else '0.<=60')\n",
        "df['Humidity3pmCat']=df['Humidity3pm'].apply(lambda x: '1.>60' if x>60 else '0.<=60')\n",
        "\n",
        "print(df)\n",
        "\n",
        "\n"
      ],
      "metadata": {
        "colab": {
          "base_uri": "https://localhost:8080/"
        },
        "id": "5h3bnmxPp6Yd",
        "outputId": "6c16f567-b050-4b67-f94c-11b8c1863201"
      },
      "execution_count": 5,
      "outputs": [
        {
          "output_type": "stream",
          "name": "stdout",
          "text": [
            "       Location  MinTemp  MaxTemp  Rainfall  Evaporation  Sunshine  \\\n",
            "0        Albury     13.4     22.9       0.6     5.469824  7.624853   \n",
            "1        Albury      7.4     25.1       0.0     5.469824  7.624853   \n",
            "2        Albury     12.9     25.7       0.0     5.469824  7.624853   \n",
            "3        Albury      9.2     28.0       0.0     5.469824  7.624853   \n",
            "4        Albury     17.5     32.3       1.0     5.469824  7.624853   \n",
            "...         ...      ...      ...       ...          ...       ...   \n",
            "145454    Uluru      3.5     21.8       0.0     5.469824  7.624853   \n",
            "145455    Uluru      2.8     23.4       0.0     5.469824  7.624853   \n",
            "145456    Uluru      3.6     25.3       0.0     5.469824  7.624853   \n",
            "145457    Uluru      5.4     26.9       0.0     5.469824  7.624853   \n",
            "145458    Uluru      7.8     27.0       0.0     5.469824  7.624853   \n",
            "\n",
            "       WindGustDir  WindGustSpeed WindDir9am WindDir3pm  WindSpeed9am  \\\n",
            "0                W           44.0          W        WNW          20.0   \n",
            "1              WNW           44.0        NNW        WSW           4.0   \n",
            "2              WSW           46.0          W        WSW          19.0   \n",
            "3               NE           24.0         SE          E          11.0   \n",
            "4                W           41.0        ENE         NW           7.0   \n",
            "...            ...            ...        ...        ...           ...   \n",
            "145454           E           31.0        ESE          E          15.0   \n",
            "145455           E           31.0         SE        ENE          13.0   \n",
            "145456         NNW           22.0         SE          N          13.0   \n",
            "145457           N           37.0         SE        WNW           9.0   \n",
            "145458          SE           28.0        SSE          N          13.0   \n",
            "\n",
            "        WindSpeed3pm  Humidity9am  Humidity3pm  Pressure9am  Pressure3pm  \\\n",
            "0               24.0         71.0         22.0       1007.7       1007.1   \n",
            "1               22.0         44.0         25.0       1010.6       1007.8   \n",
            "2               26.0         38.0         30.0       1007.6       1008.7   \n",
            "3                9.0         45.0         16.0       1017.6       1012.8   \n",
            "4               20.0         82.0         33.0       1010.8       1006.0   \n",
            "...              ...          ...          ...          ...          ...   \n",
            "145454          13.0         59.0         27.0       1024.7       1021.2   \n",
            "145455          11.0         51.0         24.0       1024.6       1020.3   \n",
            "145456           9.0         56.0         21.0       1023.5       1019.1   \n",
            "145457           9.0         53.0         24.0       1021.0       1016.8   \n",
            "145458           7.0         51.0         24.0       1019.4       1016.5   \n",
            "\n",
            "        Cloud9am  Cloud3pm  Temp9am  Temp3pm RainToday RainTomorrow  \\\n",
            "0       8.000000  4.503167     16.9     21.8        No           No   \n",
            "1       4.437189  4.503167     17.2     24.3        No           No   \n",
            "2       4.437189  2.000000     21.0     23.2        No           No   \n",
            "3       4.437189  4.503167     18.1     26.5        No           No   \n",
            "4       7.000000  8.000000     17.8     29.7        No           No   \n",
            "...          ...       ...      ...      ...       ...          ...   \n",
            "145454  4.437189  4.503167      9.4     20.9        No           No   \n",
            "145455  4.437189  4.503167     10.1     22.4        No           No   \n",
            "145456  4.437189  4.503167     10.9     24.5        No           No   \n",
            "145457  4.437189  4.503167     12.5     26.1        No           No   \n",
            "145458  3.000000  2.000000     15.1     26.0        No           No   \n",
            "\n",
            "       WindGustSpeedCat Humidity9amCat Humidity3pmCat  \n",
            "0               1.40-50          1.>60         0.<=60  \n",
            "1               1.40-50         0.<=60         0.<=60  \n",
            "2               1.40-50         0.<=60         0.<=60  \n",
            "3                0.<=40         0.<=60         0.<=60  \n",
            "4               1.40-50          1.>60         0.<=60  \n",
            "...                 ...            ...            ...  \n",
            "145454           0.<=40         0.<=60         0.<=60  \n",
            "145455           0.<=40         0.<=60         0.<=60  \n",
            "145456           0.<=40         0.<=60         0.<=60  \n",
            "145457           0.<=40         0.<=60         0.<=60  \n",
            "145458           0.<=40         0.<=60         0.<=60  \n",
            "\n",
            "[142193 rows x 25 columns]\n"
          ]
        }
      ]
    },
    {
      "cell_type": "code",
      "source": [
        "def probs(data, child, parent1=None, parent2=None):\n",
        "    if parent1==None:\n",
        "        # Calculate probabilities\n",
        "        prob=pd.crosstab(data[child], 'Empty', margins=False, normalize='columns').sort_index().to_numpy().reshape(-1).tolist()\n",
        "    elif parent1!=None:\n",
        "            # Check if child node has 1 parent or 2 parents\n",
        "            if parent2==None:\n",
        "                # Caclucate probabilities\n",
        "                prob=pd.crosstab(data[parent1],data[child], margins=False, normalize='index').sort_index().to_numpy().reshape(-1).tolist()\n",
        "            else:\n",
        "                # Caclucate probabilities\n",
        "                prob=pd.crosstab([data[parent1],data[parent2]],data[child], margins=False, normalize='index').sort_index().to_numpy().reshape(-1).tolist()\n",
        "    else: print(\"Error in Probability Frequency Calculations\")\n",
        "    return prob\n"
      ],
      "metadata": {
        "id": "aO02hikNy0gj"
      },
      "execution_count": 6,
      "outputs": []
    },
    {
      "cell_type": "code",
      "source": [
        "#Create nodes by using our earlier function to automatically calculate probabilities\n",
        "H9am = BbnNode(Variable(0, 'H9am', ['<=60', '>60']), probs(df, child='Humidity9amCat'))\n",
        "H3pm = BbnNode(Variable(1, 'H3pm', ['<=60', '>60']), probs(df, child='Humidity3pmCat', parent1='Humidity9amCat'))\n",
        "W = BbnNode(Variable(2, 'W', ['<=40', '40-50', '>50']), probs(df, child='WindGustSpeedCat'))\n",
        "RT = BbnNode(Variable(3, 'RT', ['No', 'Yes']), probs(df, child='RainTomorrow', parent1='Humidity3pmCat', parent2='WindGustSpeedCat'))\n",
        "\n",
        "# Create Network\n",
        "bbn = Bbn() \\\n",
        "    .add_node(H9am) \\\n",
        "    .add_node(H3pm) \\\n",
        "    .add_node(W) \\\n",
        "    .add_node(RT) \\\n",
        "    .add_edge(Edge(H9am, H3pm, EdgeType.DIRECTED)) \\\n",
        "    .add_edge(Edge(H3pm, RT, EdgeType.DIRECTED)) \\\n",
        "    .add_edge(Edge(W, RT, EdgeType.DIRECTED))\n",
        "\n",
        "# Convert the BBN to a join tree\n",
        "join_tree = InferenceController.apply(bbn)\n",
        "# Set node positions\n",
        "pos = {0: (-1, 2), 1: (-1, 0.5), 2: (1, 0.5), 3: (0, -1)}\n"
      ],
      "metadata": {
        "id": "qcc3Qdz3rC_U"
      },
      "execution_count": 7,
      "outputs": []
    },
    {
      "cell_type": "code",
      "source": [
        "# Set options for graph looks\n",
        "options = {\n",
        "    \"font_size\": 16,\n",
        "    \"node_size\": 4000,\n",
        "    \"node_color\": \"white\",\n",
        "    \"edgecolors\": \"orange\",\n",
        "    \"edge_color\": \"green\",\n",
        "    \"linewidths\": 5,\n",
        "    \"width\": 5,}\n",
        "\n",
        "# Generate graph\n",
        "n, d = bbn.to_nx_graph()\n",
        "nx.draw(n, with_labels=True, labels=d, pos=pos, **options)\n",
        "ax = plt.gca()\n",
        "ax.margins(0.10)\n",
        "plt.axis(\"off\")\n",
        "plt.show()\n",
        "\n",
        "print(\"H9am ->\",probs(df, child='Humidity9amCat'))\n",
        "print(\"H3pm ->\",probs(df, child='Humidity3pmCat', parent1='Humidity9amCat'))\n",
        "print(\"W ->\",probs(df, child='WindGustSpeedCat'))\n",
        "print(\"RT ->\",probs(df, child='RainTomorrow', parent1='Humidity3pmCat', parent2='WindGustSpeedCat'))"
      ],
      "metadata": {
        "colab": {
          "base_uri": "https://localhost:8080/",
          "height": 605
        },
        "id": "fId_OW1DrWuR",
        "outputId": "fcfb7e6d-2cf1-4958-cbab-2b6ccf4563cb"
      },
      "execution_count": 12,
      "outputs": [
        {
          "output_type": "display_data",
          "data": {
            "text/plain": [
              "<Figure size 640x480 with 1 Axes>"
            ],
            "image/png": "[encoded data removed]"
          },
          "metadata": {}
        },
        {
          "output_type": "stream",
          "name": "stdout",
          "text": [
            "H9am -> [0.30658330578861126, 0.6934166942113887]\n",
            "H3pm -> [0.928269945405331, 0.071730054594669, 0.5576020040771205, 0.44239799592287954]\n",
            "W -> [0.5865970898708094, 0.24039861315254618, 0.1730042969766444]\n",
            "RT -> [0.9231423408100351, 0.07685765918996491, 0.8907156673114119, 0.109284332688588, 0.7600840888188148, 0.23991591118118513, 0.6425022248590923, 0.35749777514090775, 0.4916834919719258, 0.5083165080280743, 0.3218170185540627, 0.6781829814459372]\n"
          ]
        }
      ]
    }
  ]
}